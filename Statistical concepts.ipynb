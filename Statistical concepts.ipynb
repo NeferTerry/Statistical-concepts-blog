{
 "cells": [
  {
   "cell_type": "markdown",
   "id": "726a8674",
   "metadata": {},
   "source": [
    "1- Bayes Theorem"
   ]
  },
  {
   "cell_type": "code",
   "execution_count": 1,
   "id": "59d2ffc5",
   "metadata": {},
   "outputs": [],
   "source": [
    "import numpy as np \n",
    "import pandas as pd"
   ]
  },
  {
   "cell_type": "code",
   "execution_count": 2,
   "id": "b4f5b7d6",
   "metadata": {},
   "outputs": [],
   "source": [
    "hypos = 'bucket a', 'bucket b'\n",
    "probs= 1/2,1/2"
   ]
  },
  {
   "cell_type": "code",
   "execution_count": 3,
   "id": "f65b27dc",
   "metadata": {},
   "outputs": [
    {
     "name": "stdout",
     "output_type": "stream",
     "text": [
      "bucket a    0.5\n",
      "bucket b    0.5\n",
      "dtype: float64\n"
     ]
    }
   ],
   "source": [
    "prior = pd.Series(probs, hypos)\n",
    "print(prior)"
   ]
  },
  {
   "cell_type": "code",
   "execution_count": 4,
   "id": "c7d26c71",
   "metadata": {},
   "outputs": [],
   "source": [
    "likelihood = 3/4, 1/2"
   ]
  },
  {
   "cell_type": "code",
   "execution_count": 5,
   "id": "efacf18f",
   "metadata": {},
   "outputs": [
    {
     "name": "stdout",
     "output_type": "stream",
     "text": [
      "bucket a    0.375\n",
      "bucket b    0.250\n",
      "dtype: float64\n"
     ]
    }
   ],
   "source": [
    "unnorm = prior * likelihood\n",
    "print(unnorm)\n"
   ]
  },
  {
   "cell_type": "code",
   "execution_count": 6,
   "id": "fd3f74d5",
   "metadata": {},
   "outputs": [
    {
     "data": {
      "text/plain": [
       "0.625"
      ]
     },
     "execution_count": 6,
     "metadata": {},
     "output_type": "execute_result"
    }
   ],
   "source": [
    "prob_data = unnorm.sum()\n",
    "prob_data\n"
   ]
  },
  {
   "cell_type": "code",
   "execution_count": 7,
   "id": "bb70af97",
   "metadata": {},
   "outputs": [],
   "source": [
    "posterior = unnorm / prob_data"
   ]
  },
  {
   "cell_type": "code",
   "execution_count": 8,
   "id": "774d365f",
   "metadata": {},
   "outputs": [
    {
     "data": {
      "text/plain": [
       "bucket a    0.6\n",
       "bucket b    0.4\n",
       "dtype: float64"
      ]
     },
     "execution_count": 8,
     "metadata": {},
     "output_type": "execute_result"
    }
   ],
   "source": [
    "posterior"
   ]
  },
  {
   "cell_type": "markdown",
   "id": "eb72adcb",
   "metadata": {},
   "source": [
    "2- Measures  of central tendency:"
   ]
  },
  {
   "cell_type": "code",
   "execution_count": 11,
   "id": "dcba2445",
   "metadata": {},
   "outputs": [],
   "source": [
    "heights_of_class = [99,86,87,88,111,86,103,87,94,78,77,85,86]"
   ]
  },
  {
   "cell_type": "code",
   "execution_count": 12,
   "id": "6d57d798",
   "metadata": {},
   "outputs": [
    {
     "name": "stdout",
     "output_type": "stream",
     "text": [
      "89.76923076923077\n"
     ]
    }
   ],
   "source": [
    "#Mean\n",
    "import numpy\n",
    "\n",
    "height = [99,86,87,88,111,86,103,87,94,78,77,85,86]\n",
    "\n",
    "x = numpy.mean(height)\n",
    "\n",
    "print(x)\n"
   ]
  },
  {
   "cell_type": "code",
   "execution_count": 13,
   "id": "0bcc0082",
   "metadata": {},
   "outputs": [
    {
     "name": "stdout",
     "output_type": "stream",
     "text": [
      "87.0\n"
     ]
    }
   ],
   "source": [
    "#Median\n",
    "x = numpy.median(height)\n",
    "print(x)\n"
   ]
  },
  {
   "cell_type": "code",
   "execution_count": 15,
   "id": "c6c27ab8",
   "metadata": {},
   "outputs": [
    {
     "name": "stdout",
     "output_type": "stream",
     "text": [
      "ModeResult(mode=array([86]), count=array([3]))\n"
     ]
    }
   ],
   "source": [
    "#Mode\n",
    "from scipy import stats\n",
    "x = stats.mode(height)\n",
    "\n",
    "print(x)\n"
   ]
  },
  {
   "cell_type": "markdown",
   "id": "4714f640",
   "metadata": {},
   "source": [
    "3- Measures of dispersion"
   ]
  },
  {
   "cell_type": "code",
   "execution_count": 16,
   "id": "0a7408ce",
   "metadata": {},
   "outputs": [
    {
     "data": {
      "text/plain": [
       "12.25"
      ]
     },
     "execution_count": 16,
     "metadata": {},
     "output_type": "execute_result"
    }
   ],
   "source": [
    "import numpy as np\n",
    "\n",
    "#define array of data\n",
    "data = np.array([14, 19, 20, 22, 24, 26, 27, 30, 30, 31, 36, 38, 44, 47])\n",
    "\n",
    "#calculate interquartile range \n",
    "q3, q1 = np.percentile(data, [75 ,25])\n",
    "iqr = q3 - q1\n",
    "\n",
    "#display interquartile range \n",
    "iqr\n"
   ]
  },
  {
   "cell_type": "code",
   "execution_count": 19,
   "id": "c124b82d",
   "metadata": {},
   "outputs": [
    {
     "name": "stdout",
     "output_type": "stream",
     "text": [
      "Standard Deviation of the sample is 15.61623087261029 \n"
     ]
    }
   ],
   "source": [
    "#Standard deviation\n",
    "import statistics \n",
    "data = [7,5,4,9,12,45] \n",
    "print(\"Standard Deviation of the sample is % s \"%(statistics.stdev(data)))\n",
    "\n"
   ]
  },
  {
   "cell_type": "markdown",
   "id": "b485c571",
   "metadata": {},
   "source": [
    "4- correlation and covariance"
   ]
  },
  {
   "cell_type": "code",
   "execution_count": 20,
   "id": "d69cb314",
   "metadata": {},
   "outputs": [],
   "source": [
    "def covariance(x, y):\n",
    "    # Finding the mean of the series x and y\n",
    "    mean_x = sum(x)/float(len(x))\n",
    "    mean_y = sum(y)/float(len(y))\n",
    "    # Subtracting mean from the individual elements\n",
    "    sub_x = [i - mean_x for i in x]\n",
    "    sub_y = [i - mean_y for i in y]\n",
    "    numerator = sum([sub_x[i]*sub_y[i] for i in range(len(sub_x))])\n",
    "    denominator = len(x)-1\n",
    "    cov = numerator/denominator\n",
    "    return cov\n"
   ]
  },
  {
   "cell_type": "code",
   "execution_count": 21,
   "id": "42d311db",
   "metadata": {},
   "outputs": [],
   "source": [
    "def correlation(x, y):\n",
    "    # Finding the mean of the series x and y\n",
    "    mean_x = sum(x)/float(len(x))\n",
    "    mean_y = sum(y)/float(len(y))\n",
    "    # Subtracting mean from the individual elements\n",
    "    sub_x = [i-mean_x for i in x]\n",
    "    sub_y = [i-mean_y for i in y]\n",
    "    # covariance for x and y\n",
    "    numerator = sum([sub_x[i]*sub_y[i] for i in range(len(sub_x))])\n",
    "    # Standard Deviation of x and y\n",
    "    std_deviation_x = sum([sub_x[i]**2.0 for i in range(len(sub_x))])\n",
    "    std_deviation_y = sum([sub_y[i]**2.0 for i in range(len(sub_y))])\n",
    "    # squaring by 0.5 to find the square root\n",
    "    denominator = (std_deviation_x*std_deviation_y)**0.5 # short but equivalent to (std_deviation_x**0.5) * (std_deviation_y**0.5)\n",
    "    cor = numerator/denominator\n",
    "    return cor\n"
   ]
  },
  {
   "cell_type": "markdown",
   "id": "0f71b853",
   "metadata": {},
   "source": [
    "5- P-value"
   ]
  },
  {
   "cell_type": "code",
   "execution_count": 23,
   "id": "7412a741",
   "metadata": {},
   "outputs": [
    {
     "name": "stdout",
     "output_type": "stream",
     "text": [
      "Ttest_1sampResult(statistic=array([0.41009454, 0.00505827]), pvalue=array([0.68352415, 0.99598464]))\n"
     ]
    }
   ],
   "source": [
    "from scipy import stats\n",
    "rvs = stats.norm.rvs(loc = 5, scale = 10, size = (50,2))\n",
    "print(stats.ttest_1samp(rvs,5.0))\n"
   ]
  },
  {
   "cell_type": "code",
   "execution_count": null,
   "id": "10d4b0c9",
   "metadata": {},
   "outputs": [],
   "source": []
  }
 ],
 "metadata": {
  "kernelspec": {
   "display_name": "Python 3",
   "language": "python",
   "name": "python3"
  },
  "language_info": {
   "codemirror_mode": {
    "name": "ipython",
    "version": 3
   },
   "file_extension": ".py",
   "mimetype": "text/x-python",
   "name": "python",
   "nbconvert_exporter": "python",
   "pygments_lexer": "ipython3",
   "version": "3.8.8"
  }
 },
 "nbformat": 4,
 "nbformat_minor": 5
}
